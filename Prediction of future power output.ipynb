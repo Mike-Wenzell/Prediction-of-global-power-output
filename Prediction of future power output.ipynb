{
 "cells": [
  {
   "cell_type": "code",
   "execution_count": 23,
   "metadata": {},
   "outputs": [],
   "source": [
    "import numpy as np\n",
    "import pandas as pd\n",
    "import matplotlib.pyplot as plt\n",
    "import seaborn as sns\n",
    "%matplotlib inline\n",
    "sns.set()"
   ]
  },
  {
   "cell_type": "code",
   "execution_count": 24,
   "metadata": {},
   "outputs": [],
   "source": [
    "df=pd.read_csv('/home/q/Desktop/ironhack/proj8/global_power_plant_database.csv', sep=',')"
   ]
  },
  {
   "cell_type": "markdown",
   "metadata": {},
   "source": [
    "### df"
   ]
  },
  {
   "cell_type": "code",
   "execution_count": 4,
   "metadata": {},
   "outputs": [
    {
     "data": {
      "text/plain": [
       "country                      0.000000\n",
       "country_long                 0.000000\n",
       "name                         0.000000\n",
       "gppd_idnr                    0.000000\n",
       "capacity_mw                  0.000000\n",
       "latitude                     0.000000\n",
       "longitude                    0.000000\n",
       "primary_fuel                 0.000000\n",
       "other_fuel1                 93.436978\n",
       "other_fuel2                 98.986961\n",
       "other_fuel3                 99.652290\n",
       "commissioning_year          45.493146\n",
       "owner                       34.700769\n",
       "source                       0.050150\n",
       "url                          0.060181\n",
       "geolocation_source           1.400869\n",
       "wepp_id                     45.232364\n",
       "year_of_capacity_data       54.052156\n",
       "generation_gwh_2013         76.609829\n",
       "generation_gwh_2014         75.125376\n",
       "generation_gwh_2015         72.771648\n",
       "generation_gwh_2016         70.006687\n",
       "generation_gwh_2017         69.197593\n",
       "estimated_generation_gwh    27.144768\n",
       "dtype: float64"
      ]
     },
     "execution_count": 4,
     "metadata": {},
     "output_type": "execute_result"
    }
   ],
   "source": [
    "(df.isna().sum()/df.shape[0])*100"
   ]
  },
  {
   "cell_type": "code",
   "execution_count": 5,
   "metadata": {},
   "outputs": [
    {
     "data": {
      "text/plain": [
       "29910"
      ]
     },
     "execution_count": 5,
     "metadata": {},
     "output_type": "execute_result"
    }
   ],
   "source": [
    "df.shape[0]"
   ]
  },
  {
   "cell_type": "code",
   "execution_count": 25,
   "metadata": {},
   "outputs": [],
   "source": [
    "df.drop(columns= ['url','wepp_id','commissioning_year'],inplace=True)\n"
   ]
  },
  {
   "cell_type": "code",
   "execution_count": 26,
   "metadata": {},
   "outputs": [],
   "source": [
    "df.drop(columns= ['gppd_idnr','country','owner','source','geolocation_source'],inplace=True)\n"
   ]
  },
  {
   "cell_type": "markdown",
   "metadata": {},
   "source": [
    "### df.head()"
   ]
  },
  {
   "cell_type": "code",
   "execution_count": 11,
   "metadata": {},
   "outputs": [],
   "source": [
    "#(df['capacity_mw']/df['/generation_gwh_2013'])."
   ]
  },
  {
   "cell_type": "code",
   "execution_count": 12,
   "metadata": {},
   "outputs": [
    {
     "data": {
      "text/plain": [
       "country_long                 object\n",
       "name                         object\n",
       "capacity_mw                 float64\n",
       "latitude                    float64\n",
       "longitude                   float64\n",
       "primary_fuel                 object\n",
       "other_fuel1                  object\n",
       "other_fuel2                  object\n",
       "other_fuel3                  object\n",
       "year_of_capacity_data       float64\n",
       "generation_gwh_2013         float64\n",
       "generation_gwh_2014         float64\n",
       "generation_gwh_2015         float64\n",
       "generation_gwh_2016         float64\n",
       "generation_gwh_2017         float64\n",
       "estimated_generation_gwh    float64\n",
       "dtype: object"
      ]
     },
     "execution_count": 12,
     "metadata": {},
     "output_type": "execute_result"
    }
   ],
   "source": [
    "df.dtypes"
   ]
  },
  {
   "cell_type": "code",
   "execution_count": 13,
   "metadata": {},
   "outputs": [
    {
     "data": {
      "text/plain": [
       "Index(['country_long', 'name', 'capacity_mw', 'latitude', 'longitude',\n",
       "       'primary_fuel', 'other_fuel1', 'other_fuel2', 'other_fuel3',\n",
       "       'year_of_capacity_data', 'generation_gwh_2013', 'generation_gwh_2014',\n",
       "       'generation_gwh_2015', 'generation_gwh_2016', 'generation_gwh_2017',\n",
       "       'estimated_generation_gwh'],\n",
       "      dtype='object')"
      ]
     },
     "execution_count": 13,
     "metadata": {},
     "output_type": "execute_result"
    }
   ],
   "source": [
    "df.columns"
   ]
  },
  {
   "cell_type": "code",
   "execution_count": 14,
   "metadata": {},
   "outputs": [
    {
     "data": {
      "text/plain": [
       "<bound method IndexOpsMixin.value_counts of 0         33.00\n",
       "1         66.00\n",
       "2        100.00\n",
       "3         11.55\n",
       "4         42.00\n",
       "          ...  \n",
       "29905     50.00\n",
       "29906     20.00\n",
       "29907    108.00\n",
       "29908    920.00\n",
       "29909    750.00\n",
       "Name: capacity_mw, Length: 29910, dtype: float64>"
      ]
     },
     "execution_count": 14,
     "metadata": {},
     "output_type": "execute_result"
    }
   ],
   "source": [
    "df.capacity_mw.value_counts"
   ]
  },
  {
   "cell_type": "code",
   "execution_count": 15,
   "metadata": {},
   "outputs": [
    {
     "data": {
      "text/plain": [
       "Hydro             7155\n",
       "Solar             5929\n",
       "Wind              5188\n",
       "Gas               3922\n",
       "Coal              2390\n",
       "Oil               2290\n",
       "Biomass           1396\n",
       "Waste             1087\n",
       "Nuclear            198\n",
       "Geothermal         189\n",
       "Storage             58\n",
       "Other               44\n",
       "Cogeneration        41\n",
       "Petcoke             13\n",
       "Wave and Tidal      10\n",
       "Name: primary_fuel, dtype: int64"
      ]
     },
     "execution_count": 15,
     "metadata": {},
     "output_type": "execute_result"
    }
   ],
   "source": [
    "df.primary_fuel.value_counts()"
   ]
  },
  {
   "cell_type": "code",
   "execution_count": 16,
   "metadata": {},
   "outputs": [
    {
     "name": "stdout",
     "output_type": "stream",
     "text": [
      "<class 'pandas.core.frame.DataFrame'>\n",
      "RangeIndex: 29910 entries, 0 to 29909\n",
      "Data columns (total 16 columns):\n",
      " #   Column                    Non-Null Count  Dtype  \n",
      "---  ------                    --------------  -----  \n",
      " 0   country_long              29910 non-null  object \n",
      " 1   name                      29910 non-null  object \n",
      " 2   capacity_mw               29910 non-null  float64\n",
      " 3   latitude                  29910 non-null  float64\n",
      " 4   longitude                 29910 non-null  float64\n",
      " 5   primary_fuel              29910 non-null  object \n",
      " 6   other_fuel1               1963 non-null   object \n",
      " 7   other_fuel2               303 non-null    object \n",
      " 8   other_fuel3               104 non-null    object \n",
      " 9   year_of_capacity_data     13743 non-null  float64\n",
      " 10  generation_gwh_2013       6996 non-null   float64\n",
      " 11  generation_gwh_2014       7440 non-null   float64\n",
      " 12  generation_gwh_2015       8144 non-null   float64\n",
      " 13  generation_gwh_2016       8971 non-null   float64\n",
      " 14  generation_gwh_2017       9213 non-null   float64\n",
      " 15  estimated_generation_gwh  21791 non-null  float64\n",
      "dtypes: float64(10), object(6)\n",
      "memory usage: 3.7+ MB\n"
     ]
    }
   ],
   "source": [
    "df.info()"
   ]
  },
  {
   "cell_type": "code",
   "execution_count": 17,
   "metadata": {},
   "outputs": [
    {
     "data": {
      "text/plain": [
       "0.2714476763624206"
      ]
     },
     "execution_count": 17,
     "metadata": {},
     "output_type": "execute_result"
    }
   ],
   "source": [
    "(df.estimated_generation_gwh.isna().sum())/df.shape[0]"
   ]
  },
  {
   "cell_type": "code",
   "execution_count": 18,
   "metadata": {},
   "outputs": [
    {
     "data": {
      "text/plain": [
       "(6996, 16)"
      ]
     },
     "execution_count": 18,
     "metadata": {},
     "output_type": "execute_result"
    }
   ],
   "source": [
    "df1 = df.loc[df.generation_gwh_2013.isna()==False].copy()\n",
    "df1.shape"
   ]
  },
  {
   "cell_type": "code",
   "execution_count": 19,
   "metadata": {},
   "outputs": [],
   "source": [
    "df1.reset_index(drop=True, inplace=True)"
   ]
  },
  {
   "cell_type": "code",
   "execution_count": 20,
   "metadata": {},
   "outputs": [
    {
     "data": {
      "text/plain": [
       "country_long                0.000000\n",
       "name                        0.000000\n",
       "capacity_mw                 0.000000\n",
       "latitude                    0.000000\n",
       "longitude                   0.000000\n",
       "primary_fuel                0.000000\n",
       "other_fuel1                 0.781018\n",
       "other_fuel2                 0.959119\n",
       "other_fuel3                 0.985277\n",
       "year_of_capacity_data       0.039308\n",
       "generation_gwh_2013         0.000000\n",
       "generation_gwh_2014         0.014723\n",
       "generation_gwh_2015         0.013007\n",
       "generation_gwh_2016         0.015294\n",
       "generation_gwh_2017         0.017439\n",
       "estimated_generation_gwh    0.985277\n",
       "dtype: float64"
      ]
     },
     "execution_count": 20,
     "metadata": {},
     "output_type": "execute_result"
    }
   ],
   "source": [
    "(df1.isna().sum())/df1.shape[0]"
   ]
  },
  {
   "cell_type": "code",
   "execution_count": null,
   "metadata": {},
   "outputs": [],
   "source": [
    "##   Drop columns with null values more than 50%\n",
    "##   Remove other_fuel 1, 2, and 3 and will replace when model is created\n",
    "##   Select a feature to use as Target. Meaning, what you want to predict\n",
    "##   Explore data again: Check for correlation \n",
    "##   Split data to train and test\n",
    "##   Build 2 models and check results"
   ]
  },
  {
   "cell_type": "code",
   "execution_count": null,
   "metadata": {},
   "outputs": [],
   "source": [
    "##  Concatenate columns \n",
    "##  Cluster first 5 columns\n",
    "##  PCA, Kmeans, Kelbowcurve "
   ]
  },
  {
   "cell_type": "code",
   "execution_count": 35,
   "metadata": {
    "scrolled": true
   },
   "outputs": [],
   "source": [
    "df1.drop(['year_of_capacity_data', 'other_fuel1', 'other_fuel2', 'other_fuel3', 'estimated_generation_gwh'], axis=1, inplace=True)\n"
   ]
  },
  {
   "cell_type": "code",
   "execution_count": 36,
   "metadata": {},
   "outputs": [
    {
     "data": {
      "text/plain": [
       "Index(['country_long', 'name', 'capacity_mw', 'latitude', 'longitude',\n",
       "       'primary_fuel', 'generation_gwh_2013', 'generation_gwh_2014',\n",
       "       'generation_gwh_2015', 'generation_gwh_2016', 'generation_gwh_2017'],\n",
       "      dtype='object')"
      ]
     },
     "execution_count": 36,
     "metadata": {},
     "output_type": "execute_result"
    }
   ],
   "source": [
    "df1.columns"
   ]
  },
  {
   "cell_type": "markdown",
   "metadata": {},
   "source": [
    "### df"
   ]
  },
  {
   "cell_type": "code",
   "execution_count": 40,
   "metadata": {},
   "outputs": [],
   "source": [
    "df1['gcf']=df1['capacity_mw']/df1['generation_gwh_2013']"
   ]
  },
  {
   "cell_type": "code",
   "execution_count": 44,
   "metadata": {},
   "outputs": [],
   "source": [
    "dfclusters=df1[['country_long','name','capacity_mw','latitude','longitude','primary_fuel']]"
   ]
  },
  {
   "cell_type": "code",
   "execution_count": 45,
   "metadata": {},
   "outputs": [
    {
     "data": {
      "text/html": [
       "<div>\n",
       "<style scoped>\n",
       "    .dataframe tbody tr th:only-of-type {\n",
       "        vertical-align: middle;\n",
       "    }\n",
       "\n",
       "    .dataframe tbody tr th {\n",
       "        vertical-align: top;\n",
       "    }\n",
       "\n",
       "    .dataframe thead th {\n",
       "        text-align: right;\n",
       "    }\n",
       "</style>\n",
       "<table border=\"1\" class=\"dataframe\">\n",
       "  <thead>\n",
       "    <tr style=\"text-align: right;\">\n",
       "      <th></th>\n",
       "      <th>country_long</th>\n",
       "      <th>name</th>\n",
       "      <th>capacity_mw</th>\n",
       "      <th>latitude</th>\n",
       "      <th>longitude</th>\n",
       "      <th>primary_fuel</th>\n",
       "    </tr>\n",
       "  </thead>\n",
       "  <tbody>\n",
       "    <tr>\n",
       "      <th>0</th>\n",
       "      <td>Australia</td>\n",
       "      <td>Albany Wind Farm</td>\n",
       "      <td>21.6</td>\n",
       "      <td>-35.0641</td>\n",
       "      <td>117.7977</td>\n",
       "      <td>Wind</td>\n",
       "    </tr>\n",
       "    <tr>\n",
       "      <th>1</th>\n",
       "      <td>Australia</td>\n",
       "      <td>Anglesea</td>\n",
       "      <td>165.0</td>\n",
       "      <td>-38.3861</td>\n",
       "      <td>144.1828</td>\n",
       "      <td>Coal</td>\n",
       "    </tr>\n",
       "    <tr>\n",
       "      <th>2</th>\n",
       "      <td>Australia</td>\n",
       "      <td>Appin (Mine)</td>\n",
       "      <td>55.6</td>\n",
       "      <td>-34.2082</td>\n",
       "      <td>150.7722</td>\n",
       "      <td>Gas</td>\n",
       "    </tr>\n",
       "    <tr>\n",
       "      <th>3</th>\n",
       "      <td>Australia</td>\n",
       "      <td>Awaba</td>\n",
       "      <td>1.1</td>\n",
       "      <td>-33.0250</td>\n",
       "      <td>151.5497</td>\n",
       "      <td>Waste</td>\n",
       "    </tr>\n",
       "    <tr>\n",
       "      <th>4</th>\n",
       "      <td>Australia</td>\n",
       "      <td>Bairnsdale</td>\n",
       "      <td>94.0</td>\n",
       "      <td>-37.8429</td>\n",
       "      <td>147.5639</td>\n",
       "      <td>Gas</td>\n",
       "    </tr>\n",
       "    <tr>\n",
       "      <th>...</th>\n",
       "      <td>...</td>\n",
       "      <td>...</td>\n",
       "      <td>...</td>\n",
       "      <td>...</td>\n",
       "      <td>...</td>\n",
       "      <td>...</td>\n",
       "    </tr>\n",
       "    <tr>\n",
       "      <th>6991</th>\n",
       "      <td>Venezuela</td>\n",
       "      <td>Simon Bolivar (Guri)</td>\n",
       "      <td>8851.0</td>\n",
       "      <td>7.7659</td>\n",
       "      <td>-62.9982</td>\n",
       "      <td>Hydro</td>\n",
       "    </tr>\n",
       "    <tr>\n",
       "      <th>6992</th>\n",
       "      <td>Venezuela</td>\n",
       "      <td>Termobarrancas II</td>\n",
       "      <td>161.0</td>\n",
       "      <td>8.6070</td>\n",
       "      <td>-70.1049</td>\n",
       "      <td>Gas</td>\n",
       "    </tr>\n",
       "    <tr>\n",
       "      <th>6993</th>\n",
       "      <td>Venezuela</td>\n",
       "      <td>Termocarabobo</td>\n",
       "      <td>380.0</td>\n",
       "      <td>10.4839</td>\n",
       "      <td>-68.1492</td>\n",
       "      <td>Gas</td>\n",
       "    </tr>\n",
       "    <tr>\n",
       "      <th>6994</th>\n",
       "      <td>Venezuela</td>\n",
       "      <td>Termozulia</td>\n",
       "      <td>1300.0</td>\n",
       "      <td>10.4883</td>\n",
       "      <td>-71.6354</td>\n",
       "      <td>Gas</td>\n",
       "    </tr>\n",
       "    <tr>\n",
       "      <th>6995</th>\n",
       "      <td>Venezuela</td>\n",
       "      <td>Turboven</td>\n",
       "      <td>40.0</td>\n",
       "      <td>10.1863</td>\n",
       "      <td>-67.4593</td>\n",
       "      <td>Gas</td>\n",
       "    </tr>\n",
       "  </tbody>\n",
       "</table>\n",
       "<p>6996 rows × 6 columns</p>\n",
       "</div>"
      ],
      "text/plain": [
       "     country_long                  name  capacity_mw  latitude  longitude  \\\n",
       "0       Australia      Albany Wind Farm         21.6  -35.0641   117.7977   \n",
       "1       Australia              Anglesea        165.0  -38.3861   144.1828   \n",
       "2       Australia          Appin (Mine)         55.6  -34.2082   150.7722   \n",
       "3       Australia                 Awaba          1.1  -33.0250   151.5497   \n",
       "4       Australia            Bairnsdale         94.0  -37.8429   147.5639   \n",
       "...           ...                   ...          ...       ...        ...   \n",
       "6991    Venezuela  Simon Bolivar (Guri)       8851.0    7.7659   -62.9982   \n",
       "6992    Venezuela     Termobarrancas II        161.0    8.6070   -70.1049   \n",
       "6993    Venezuela         Termocarabobo        380.0   10.4839   -68.1492   \n",
       "6994    Venezuela            Termozulia       1300.0   10.4883   -71.6354   \n",
       "6995    Venezuela              Turboven         40.0   10.1863   -67.4593   \n",
       "\n",
       "     primary_fuel  \n",
       "0            Wind  \n",
       "1            Coal  \n",
       "2             Gas  \n",
       "3           Waste  \n",
       "4             Gas  \n",
       "...           ...  \n",
       "6991        Hydro  \n",
       "6992          Gas  \n",
       "6993          Gas  \n",
       "6994          Gas  \n",
       "6995          Gas  \n",
       "\n",
       "[6996 rows x 6 columns]"
      ]
     },
     "execution_count": 45,
     "metadata": {},
     "output_type": "execute_result"
    }
   ],
   "source": [
    "dfclusters"
   ]
  },
  {
   "cell_type": "code",
   "execution_count": 81,
   "metadata": {},
   "outputs": [],
   "source": [
    "country_dict=df.country_long.value_counts(normalize=True).to_dict()"
   ]
  },
  {
   "cell_type": "code",
   "execution_count": 83,
   "metadata": {},
   "outputs": [
    {
     "data": {
      "text/plain": [
       "0        0.000234\n",
       "1        0.000234\n",
       "2        0.000234\n",
       "3        0.000234\n",
       "4        0.000234\n",
       "           ...   \n",
       "29905    0.000468\n",
       "29906    0.000468\n",
       "29907    0.000468\n",
       "29908    0.000067\n",
       "29909    0.000067\n",
       "Name: country_long, Length: 29910, dtype: float64"
      ]
     },
     "execution_count": 83,
     "metadata": {},
     "output_type": "execute_result"
    }
   ],
   "source": [
    "df.country_long=df.country_long.map(country_dict)"
   ]
  },
  {
   "cell_type": "markdown",
   "metadata": {},
   "source": [
    "# Concatenated Df"
   ]
  },
  {
   "cell_type": "code",
   "execution_count": 29,
   "metadata": {},
   "outputs": [],
   "source": [
    "qwe1=df.iloc[:,:13]"
   ]
  },
  {
   "cell_type": "code",
   "execution_count": 30,
   "metadata": {},
   "outputs": [],
   "source": [
    "mainbody=df.iloc[:,0:10]"
   ]
  },
  {
   "cell_type": "code",
   "execution_count": 31,
   "metadata": {},
   "outputs": [],
   "source": [
    "qwe2=df.iloc[:,11:14]"
   ]
  },
  {
   "cell_type": "code",
   "execution_count": 32,
   "metadata": {},
   "outputs": [],
   "source": [
    "qwe3=df.iloc[:,12:15]"
   ]
  },
  {
   "cell_type": "code",
   "execution_count": 33,
   "metadata": {},
   "outputs": [],
   "source": [
    "qwe2=pd.concat([mainbody,qwe2],axis=1)"
   ]
  },
  {
   "cell_type": "code",
   "execution_count": 34,
   "metadata": {},
   "outputs": [],
   "source": [
    "qwe3=pd.concat([mainbody,qwe3],axis=1)"
   ]
  },
  {
   "cell_type": "code",
   "execution_count": 35,
   "metadata": {},
   "outputs": [],
   "source": [
    "qwe3.columns=['country_long', 'name', 'capacity_mw', 'latitude', 'longitude',\n",
    "       'primary_fuel', 'other_fuel1', 'other_fuel2', 'other_fuel3',\n",
    "       'year_of_capacity_data', 'prior2', 'prior1',\n",
    "       'current']"
   ]
  },
  {
   "cell_type": "code",
   "execution_count": 36,
   "metadata": {},
   "outputs": [],
   "source": [
    "qwe2.columns=['country_long', 'name', 'capacity_mw', 'latitude', 'longitude',\n",
    "       'primary_fuel', 'other_fuel1', 'other_fuel2', 'other_fuel3',\n",
    "       'year_of_capacity_data', 'prior2', 'prior1',\n",
    "       'current']"
   ]
  },
  {
   "cell_type": "code",
   "execution_count": 37,
   "metadata": {},
   "outputs": [],
   "source": [
    "qwe1.columns=['country_long', 'name', 'capacity_mw', 'latitude', 'longitude',\n",
    "       'primary_fuel', 'other_fuel1', 'other_fuel2', 'other_fuel3',\n",
    "       'year_of_capacity_data', 'prior2', 'prior1',\n",
    "       'current']"
   ]
  },
  {
   "cell_type": "code",
   "execution_count": 38,
   "metadata": {},
   "outputs": [],
   "source": [
    "final=pd.concat([qwe1,qwe2,qwe3]).reset_index(drop=True)"
   ]
  },
  {
   "cell_type": "code",
   "execution_count": 39,
   "metadata": {},
   "outputs": [
    {
     "data": {
      "text/html": [
       "<div>\n",
       "<style scoped>\n",
       "    .dataframe tbody tr th:only-of-type {\n",
       "        vertical-align: middle;\n",
       "    }\n",
       "\n",
       "    .dataframe tbody tr th {\n",
       "        vertical-align: top;\n",
       "    }\n",
       "\n",
       "    .dataframe thead th {\n",
       "        text-align: right;\n",
       "    }\n",
       "</style>\n",
       "<table border=\"1\" class=\"dataframe\">\n",
       "  <thead>\n",
       "    <tr style=\"text-align: right;\">\n",
       "      <th></th>\n",
       "      <th>country_long</th>\n",
       "      <th>name</th>\n",
       "      <th>capacity_mw</th>\n",
       "      <th>latitude</th>\n",
       "      <th>longitude</th>\n",
       "      <th>primary_fuel</th>\n",
       "      <th>other_fuel1</th>\n",
       "      <th>other_fuel2</th>\n",
       "      <th>other_fuel3</th>\n",
       "      <th>year_of_capacity_data</th>\n",
       "      <th>prior2</th>\n",
       "      <th>prior1</th>\n",
       "      <th>current</th>\n",
       "    </tr>\n",
       "  </thead>\n",
       "  <tbody>\n",
       "    <tr>\n",
       "      <th>303</th>\n",
       "      <td>Australia</td>\n",
       "      <td>Albany Wind Farm</td>\n",
       "      <td>21.6</td>\n",
       "      <td>-35.0641</td>\n",
       "      <td>117.7977</td>\n",
       "      <td>Wind</td>\n",
       "      <td>NaN</td>\n",
       "      <td>NaN</td>\n",
       "      <td>NaN</td>\n",
       "      <td>NaN</td>\n",
       "      <td>89.595278</td>\n",
       "      <td>102.642778</td>\n",
       "      <td>96.555556</td>\n",
       "    </tr>\n",
       "    <tr>\n",
       "      <th>306</th>\n",
       "      <td>Australia</td>\n",
       "      <td>Anglesea</td>\n",
       "      <td>165.0</td>\n",
       "      <td>-38.3861</td>\n",
       "      <td>144.1828</td>\n",
       "      <td>Coal</td>\n",
       "      <td>NaN</td>\n",
       "      <td>NaN</td>\n",
       "      <td>NaN</td>\n",
       "      <td>NaN</td>\n",
       "      <td>1095.676944</td>\n",
       "      <td>1239.962778</td>\n",
       "      <td>1260.261111</td>\n",
       "    </tr>\n",
       "    <tr>\n",
       "      <th>307</th>\n",
       "      <td>Australia</td>\n",
       "      <td>Appin (Mine)</td>\n",
       "      <td>55.6</td>\n",
       "      <td>-34.2082</td>\n",
       "      <td>150.7722</td>\n",
       "      <td>Gas</td>\n",
       "      <td>NaN</td>\n",
       "      <td>NaN</td>\n",
       "      <td>NaN</td>\n",
       "      <td>NaN</td>\n",
       "      <td>204.804444</td>\n",
       "      <td>238.294444</td>\n",
       "      <td>163.583611</td>\n",
       "    </tr>\n",
       "    <tr>\n",
       "      <th>309</th>\n",
       "      <td>Australia</td>\n",
       "      <td>Awaba</td>\n",
       "      <td>1.1</td>\n",
       "      <td>-33.0250</td>\n",
       "      <td>151.5497</td>\n",
       "      <td>Waste</td>\n",
       "      <td>NaN</td>\n",
       "      <td>NaN</td>\n",
       "      <td>NaN</td>\n",
       "      <td>NaN</td>\n",
       "      <td>7.655278</td>\n",
       "      <td>8.338611</td>\n",
       "      <td>9.172500</td>\n",
       "    </tr>\n",
       "    <tr>\n",
       "      <th>310</th>\n",
       "      <td>Australia</td>\n",
       "      <td>Bairnsdale</td>\n",
       "      <td>94.0</td>\n",
       "      <td>-37.8429</td>\n",
       "      <td>147.5639</td>\n",
       "      <td>Gas</td>\n",
       "      <td>NaN</td>\n",
       "      <td>NaN</td>\n",
       "      <td>NaN</td>\n",
       "      <td>NaN</td>\n",
       "      <td>132.456667</td>\n",
       "      <td>154.885556</td>\n",
       "      <td>149.821111</td>\n",
       "    </tr>\n",
       "    <tr>\n",
       "      <th>...</th>\n",
       "      <td>...</td>\n",
       "      <td>...</td>\n",
       "      <td>...</td>\n",
       "      <td>...</td>\n",
       "      <td>...</td>\n",
       "      <td>...</td>\n",
       "      <td>...</td>\n",
       "      <td>...</td>\n",
       "      <td>...</td>\n",
       "      <td>...</td>\n",
       "      <td>...</td>\n",
       "      <td>...</td>\n",
       "      <td>...</td>\n",
       "    </tr>\n",
       "    <tr>\n",
       "      <th>89350</th>\n",
       "      <td>United States of America</td>\n",
       "      <td>Zion Energy Center</td>\n",
       "      <td>596.7</td>\n",
       "      <td>42.4776</td>\n",
       "      <td>-87.8950</td>\n",
       "      <td>Gas</td>\n",
       "      <td>Oil</td>\n",
       "      <td>NaN</td>\n",
       "      <td>NaN</td>\n",
       "      <td>2017.0</td>\n",
       "      <td>132.434005</td>\n",
       "      <td>435.493999</td>\n",
       "      <td>462.063000</td>\n",
       "    </tr>\n",
       "    <tr>\n",
       "      <th>89351</th>\n",
       "      <td>United States of America</td>\n",
       "      <td>Zion Landfill Gas to Energy Facility</td>\n",
       "      <td>7.0</td>\n",
       "      <td>42.4803</td>\n",
       "      <td>-87.8861</td>\n",
       "      <td>Waste</td>\n",
       "      <td>NaN</td>\n",
       "      <td>NaN</td>\n",
       "      <td>NaN</td>\n",
       "      <td>2017.0</td>\n",
       "      <td>46.699000</td>\n",
       "      <td>42.480000</td>\n",
       "      <td>38.669000</td>\n",
       "    </tr>\n",
       "    <tr>\n",
       "      <th>89352</th>\n",
       "      <td>United States of America</td>\n",
       "      <td>Zorn</td>\n",
       "      <td>18.0</td>\n",
       "      <td>38.2803</td>\n",
       "      <td>-85.7023</td>\n",
       "      <td>Gas</td>\n",
       "      <td>NaN</td>\n",
       "      <td>NaN</td>\n",
       "      <td>NaN</td>\n",
       "      <td>2017.0</td>\n",
       "      <td>1.058000</td>\n",
       "      <td>0.062000</td>\n",
       "      <td>0.015000</td>\n",
       "    </tr>\n",
       "    <tr>\n",
       "      <th>89353</th>\n",
       "      <td>United States of America</td>\n",
       "      <td>Zotos International WPGF</td>\n",
       "      <td>3.4</td>\n",
       "      <td>42.8869</td>\n",
       "      <td>-76.9683</td>\n",
       "      <td>Wind</td>\n",
       "      <td>NaN</td>\n",
       "      <td>NaN</td>\n",
       "      <td>NaN</td>\n",
       "      <td>2017.0</td>\n",
       "      <td>2.489000</td>\n",
       "      <td>1.670000</td>\n",
       "      <td>1.233490</td>\n",
       "    </tr>\n",
       "    <tr>\n",
       "      <th>89354</th>\n",
       "      <td>United States of America</td>\n",
       "      <td>eBay - South Jordan</td>\n",
       "      <td>9.8</td>\n",
       "      <td>40.5606</td>\n",
       "      <td>-112.0478</td>\n",
       "      <td>Gas</td>\n",
       "      <td>NaN</td>\n",
       "      <td>NaN</td>\n",
       "      <td>NaN</td>\n",
       "      <td>2017.0</td>\n",
       "      <td>71.505000</td>\n",
       "      <td>76.392000</td>\n",
       "      <td>76.631000</td>\n",
       "    </tr>\n",
       "  </tbody>\n",
       "</table>\n",
       "<p>22012 rows × 13 columns</p>\n",
       "</div>"
      ],
      "text/plain": [
       "                   country_long                                  name  \\\n",
       "303                   Australia                      Albany Wind Farm   \n",
       "306                   Australia                              Anglesea   \n",
       "307                   Australia                          Appin (Mine)   \n",
       "309                   Australia                                 Awaba   \n",
       "310                   Australia                            Bairnsdale   \n",
       "...                         ...                                   ...   \n",
       "89350  United States of America                    Zion Energy Center   \n",
       "89351  United States of America  Zion Landfill Gas to Energy Facility   \n",
       "89352  United States of America                                  Zorn   \n",
       "89353  United States of America              Zotos International WPGF   \n",
       "89354  United States of America                   eBay - South Jordan   \n",
       "\n",
       "       capacity_mw  latitude  longitude primary_fuel other_fuel1 other_fuel2  \\\n",
       "303           21.6  -35.0641   117.7977         Wind         NaN         NaN   \n",
       "306          165.0  -38.3861   144.1828         Coal         NaN         NaN   \n",
       "307           55.6  -34.2082   150.7722          Gas         NaN         NaN   \n",
       "309            1.1  -33.0250   151.5497        Waste         NaN         NaN   \n",
       "310           94.0  -37.8429   147.5639          Gas         NaN         NaN   \n",
       "...            ...       ...        ...          ...         ...         ...   \n",
       "89350        596.7   42.4776   -87.8950          Gas         Oil         NaN   \n",
       "89351          7.0   42.4803   -87.8861        Waste         NaN         NaN   \n",
       "89352         18.0   38.2803   -85.7023          Gas         NaN         NaN   \n",
       "89353          3.4   42.8869   -76.9683         Wind         NaN         NaN   \n",
       "89354          9.8   40.5606  -112.0478          Gas         NaN         NaN   \n",
       "\n",
       "      other_fuel3  year_of_capacity_data       prior2       prior1  \\\n",
       "303           NaN                    NaN    89.595278   102.642778   \n",
       "306           NaN                    NaN  1095.676944  1239.962778   \n",
       "307           NaN                    NaN   204.804444   238.294444   \n",
       "309           NaN                    NaN     7.655278     8.338611   \n",
       "310           NaN                    NaN   132.456667   154.885556   \n",
       "...           ...                    ...          ...          ...   \n",
       "89350         NaN                 2017.0   132.434005   435.493999   \n",
       "89351         NaN                 2017.0    46.699000    42.480000   \n",
       "89352         NaN                 2017.0     1.058000     0.062000   \n",
       "89353         NaN                 2017.0     2.489000     1.670000   \n",
       "89354         NaN                 2017.0    71.505000    76.392000   \n",
       "\n",
       "           current  \n",
       "303      96.555556  \n",
       "306    1260.261111  \n",
       "307     163.583611  \n",
       "309       9.172500  \n",
       "310     149.821111  \n",
       "...            ...  \n",
       "89350   462.063000  \n",
       "89351    38.669000  \n",
       "89352     0.015000  \n",
       "89353     1.233490  \n",
       "89354    76.631000  \n",
       "\n",
       "[22012 rows x 13 columns]"
      ]
     },
     "execution_count": 39,
     "metadata": {},
     "output_type": "execute_result"
    }
   ],
   "source": [
    "final.dropna(subset=['prior2','prior1','current'])"
   ]
  },
  {
   "cell_type": "code",
   "execution_count": 42,
   "metadata": {},
   "outputs": [
    {
     "data": {
      "text/plain": [
       "<bound method IndexOpsMixin.value_counts of 0        Hydro\n",
       "1        Hydro\n",
       "2        Hydro\n",
       "3        Hydro\n",
       "4          Gas\n",
       "         ...  \n",
       "89725      Oil\n",
       "89726      Oil\n",
       "89727    Hydro\n",
       "89728     Coal\n",
       "89729    Hydro\n",
       "Name: primary_fuel, Length: 89730, dtype: object>"
      ]
     },
     "execution_count": 42,
     "metadata": {},
     "output_type": "execute_result"
    }
   ],
   "source": [
    "final.primary_fuel.value_counts"
   ]
  },
  {
   "cell_type": "code",
   "execution_count": 43,
   "metadata": {},
   "outputs": [
    {
     "data": {
      "text/html": [
       "<div>\n",
       "<style scoped>\n",
       "    .dataframe tbody tr th:only-of-type {\n",
       "        vertical-align: middle;\n",
       "    }\n",
       "\n",
       "    .dataframe tbody tr th {\n",
       "        vertical-align: top;\n",
       "    }\n",
       "\n",
       "    .dataframe thead th {\n",
       "        text-align: right;\n",
       "    }\n",
       "</style>\n",
       "<table border=\"1\" class=\"dataframe\">\n",
       "  <thead>\n",
       "    <tr style=\"text-align: right;\">\n",
       "      <th></th>\n",
       "      <th>Biomass</th>\n",
       "      <th>Coal</th>\n",
       "      <th>Cogeneration</th>\n",
       "      <th>Gas</th>\n",
       "      <th>Geothermal</th>\n",
       "      <th>Hydro</th>\n",
       "      <th>Nuclear</th>\n",
       "      <th>Oil</th>\n",
       "      <th>Other</th>\n",
       "      <th>Petcoke</th>\n",
       "      <th>Solar</th>\n",
       "      <th>Storage</th>\n",
       "      <th>Waste</th>\n",
       "      <th>Wave and Tidal</th>\n",
       "      <th>Wind</th>\n",
       "    </tr>\n",
       "  </thead>\n",
       "  <tbody>\n",
       "    <tr>\n",
       "      <th>0</th>\n",
       "      <td>0</td>\n",
       "      <td>0</td>\n",
       "      <td>0</td>\n",
       "      <td>0</td>\n",
       "      <td>0</td>\n",
       "      <td>1</td>\n",
       "      <td>0</td>\n",
       "      <td>0</td>\n",
       "      <td>0</td>\n",
       "      <td>0</td>\n",
       "      <td>0</td>\n",
       "      <td>0</td>\n",
       "      <td>0</td>\n",
       "      <td>0</td>\n",
       "      <td>0</td>\n",
       "    </tr>\n",
       "    <tr>\n",
       "      <th>1</th>\n",
       "      <td>0</td>\n",
       "      <td>0</td>\n",
       "      <td>0</td>\n",
       "      <td>0</td>\n",
       "      <td>0</td>\n",
       "      <td>1</td>\n",
       "      <td>0</td>\n",
       "      <td>0</td>\n",
       "      <td>0</td>\n",
       "      <td>0</td>\n",
       "      <td>0</td>\n",
       "      <td>0</td>\n",
       "      <td>0</td>\n",
       "      <td>0</td>\n",
       "      <td>0</td>\n",
       "    </tr>\n",
       "    <tr>\n",
       "      <th>2</th>\n",
       "      <td>0</td>\n",
       "      <td>0</td>\n",
       "      <td>0</td>\n",
       "      <td>0</td>\n",
       "      <td>0</td>\n",
       "      <td>1</td>\n",
       "      <td>0</td>\n",
       "      <td>0</td>\n",
       "      <td>0</td>\n",
       "      <td>0</td>\n",
       "      <td>0</td>\n",
       "      <td>0</td>\n",
       "      <td>0</td>\n",
       "      <td>0</td>\n",
       "      <td>0</td>\n",
       "    </tr>\n",
       "    <tr>\n",
       "      <th>3</th>\n",
       "      <td>0</td>\n",
       "      <td>0</td>\n",
       "      <td>0</td>\n",
       "      <td>0</td>\n",
       "      <td>0</td>\n",
       "      <td>1</td>\n",
       "      <td>0</td>\n",
       "      <td>0</td>\n",
       "      <td>0</td>\n",
       "      <td>0</td>\n",
       "      <td>0</td>\n",
       "      <td>0</td>\n",
       "      <td>0</td>\n",
       "      <td>0</td>\n",
       "      <td>0</td>\n",
       "    </tr>\n",
       "    <tr>\n",
       "      <th>4</th>\n",
       "      <td>0</td>\n",
       "      <td>0</td>\n",
       "      <td>0</td>\n",
       "      <td>1</td>\n",
       "      <td>0</td>\n",
       "      <td>0</td>\n",
       "      <td>0</td>\n",
       "      <td>0</td>\n",
       "      <td>0</td>\n",
       "      <td>0</td>\n",
       "      <td>0</td>\n",
       "      <td>0</td>\n",
       "      <td>0</td>\n",
       "      <td>0</td>\n",
       "      <td>0</td>\n",
       "    </tr>\n",
       "    <tr>\n",
       "      <th>...</th>\n",
       "      <td>...</td>\n",
       "      <td>...</td>\n",
       "      <td>...</td>\n",
       "      <td>...</td>\n",
       "      <td>...</td>\n",
       "      <td>...</td>\n",
       "      <td>...</td>\n",
       "      <td>...</td>\n",
       "      <td>...</td>\n",
       "      <td>...</td>\n",
       "      <td>...</td>\n",
       "      <td>...</td>\n",
       "      <td>...</td>\n",
       "      <td>...</td>\n",
       "      <td>...</td>\n",
       "    </tr>\n",
       "    <tr>\n",
       "      <th>89725</th>\n",
       "      <td>0</td>\n",
       "      <td>0</td>\n",
       "      <td>0</td>\n",
       "      <td>0</td>\n",
       "      <td>0</td>\n",
       "      <td>0</td>\n",
       "      <td>0</td>\n",
       "      <td>1</td>\n",
       "      <td>0</td>\n",
       "      <td>0</td>\n",
       "      <td>0</td>\n",
       "      <td>0</td>\n",
       "      <td>0</td>\n",
       "      <td>0</td>\n",
       "      <td>0</td>\n",
       "    </tr>\n",
       "    <tr>\n",
       "      <th>89726</th>\n",
       "      <td>0</td>\n",
       "      <td>0</td>\n",
       "      <td>0</td>\n",
       "      <td>0</td>\n",
       "      <td>0</td>\n",
       "      <td>0</td>\n",
       "      <td>0</td>\n",
       "      <td>1</td>\n",
       "      <td>0</td>\n",
       "      <td>0</td>\n",
       "      <td>0</td>\n",
       "      <td>0</td>\n",
       "      <td>0</td>\n",
       "      <td>0</td>\n",
       "      <td>0</td>\n",
       "    </tr>\n",
       "    <tr>\n",
       "      <th>89727</th>\n",
       "      <td>0</td>\n",
       "      <td>0</td>\n",
       "      <td>0</td>\n",
       "      <td>0</td>\n",
       "      <td>0</td>\n",
       "      <td>1</td>\n",
       "      <td>0</td>\n",
       "      <td>0</td>\n",
       "      <td>0</td>\n",
       "      <td>0</td>\n",
       "      <td>0</td>\n",
       "      <td>0</td>\n",
       "      <td>0</td>\n",
       "      <td>0</td>\n",
       "      <td>0</td>\n",
       "    </tr>\n",
       "    <tr>\n",
       "      <th>89728</th>\n",
       "      <td>0</td>\n",
       "      <td>1</td>\n",
       "      <td>0</td>\n",
       "      <td>0</td>\n",
       "      <td>0</td>\n",
       "      <td>0</td>\n",
       "      <td>0</td>\n",
       "      <td>0</td>\n",
       "      <td>0</td>\n",
       "      <td>0</td>\n",
       "      <td>0</td>\n",
       "      <td>0</td>\n",
       "      <td>0</td>\n",
       "      <td>0</td>\n",
       "      <td>0</td>\n",
       "    </tr>\n",
       "    <tr>\n",
       "      <th>89729</th>\n",
       "      <td>0</td>\n",
       "      <td>0</td>\n",
       "      <td>0</td>\n",
       "      <td>0</td>\n",
       "      <td>0</td>\n",
       "      <td>1</td>\n",
       "      <td>0</td>\n",
       "      <td>0</td>\n",
       "      <td>0</td>\n",
       "      <td>0</td>\n",
       "      <td>0</td>\n",
       "      <td>0</td>\n",
       "      <td>0</td>\n",
       "      <td>0</td>\n",
       "      <td>0</td>\n",
       "    </tr>\n",
       "  </tbody>\n",
       "</table>\n",
       "<p>89730 rows × 15 columns</p>\n",
       "</div>"
      ],
      "text/plain": [
       "       Biomass  Coal  Cogeneration  Gas  Geothermal  Hydro  Nuclear  Oil  \\\n",
       "0            0     0             0    0           0      1        0    0   \n",
       "1            0     0             0    0           0      1        0    0   \n",
       "2            0     0             0    0           0      1        0    0   \n",
       "3            0     0             0    0           0      1        0    0   \n",
       "4            0     0             0    1           0      0        0    0   \n",
       "...        ...   ...           ...  ...         ...    ...      ...  ...   \n",
       "89725        0     0             0    0           0      0        0    1   \n",
       "89726        0     0             0    0           0      0        0    1   \n",
       "89727        0     0             0    0           0      1        0    0   \n",
       "89728        0     1             0    0           0      0        0    0   \n",
       "89729        0     0             0    0           0      1        0    0   \n",
       "\n",
       "       Other  Petcoke  Solar  Storage  Waste  Wave and Tidal  Wind  \n",
       "0          0        0      0        0      0               0     0  \n",
       "1          0        0      0        0      0               0     0  \n",
       "2          0        0      0        0      0               0     0  \n",
       "3          0        0      0        0      0               0     0  \n",
       "4          0        0      0        0      0               0     0  \n",
       "...      ...      ...    ...      ...    ...             ...   ...  \n",
       "89725      0        0      0        0      0               0     0  \n",
       "89726      0        0      0        0      0               0     0  \n",
       "89727      0        0      0        0      0               0     0  \n",
       "89728      0        0      0        0      0               0     0  \n",
       "89729      0        0      0        0      0               0     0  \n",
       "\n",
       "[89730 rows x 15 columns]"
      ]
     },
     "execution_count": 43,
     "metadata": {},
     "output_type": "execute_result"
    }
   ],
   "source": [
    "pd.get_dummies(final['primary_fuel'])"
   ]
  },
  {
   "cell_type": "code",
   "execution_count": 55,
   "metadata": {},
   "outputs": [
    {
     "data": {
      "text/html": [
       "<div>\n",
       "<style scoped>\n",
       "    .dataframe tbody tr th:only-of-type {\n",
       "        vertical-align: middle;\n",
       "    }\n",
       "\n",
       "    .dataframe tbody tr th {\n",
       "        vertical-align: top;\n",
       "    }\n",
       "\n",
       "    .dataframe thead th {\n",
       "        text-align: right;\n",
       "    }\n",
       "</style>\n",
       "<table border=\"1\" class=\"dataframe\">\n",
       "  <thead>\n",
       "    <tr style=\"text-align: right;\">\n",
       "      <th></th>\n",
       "      <th>capacity_mw</th>\n",
       "      <th>latitude</th>\n",
       "      <th>longitude</th>\n",
       "      <th>prior2</th>\n",
       "      <th>prior1</th>\n",
       "      <th>current</th>\n",
       "    </tr>\n",
       "  </thead>\n",
       "  <tbody>\n",
       "    <tr>\n",
       "      <th>count</th>\n",
       "      <td>89730.000000</td>\n",
       "      <td>89730.000000</td>\n",
       "      <td>89730.000000</td>\n",
       "      <td>89730.000000</td>\n",
       "      <td>89730.000000</td>\n",
       "      <td>89730.000000</td>\n",
       "    </tr>\n",
       "    <tr>\n",
       "      <th>mean</th>\n",
       "      <td>186.294810</td>\n",
       "      <td>32.497558</td>\n",
       "      <td>-12.458680</td>\n",
       "      <td>169.183678</td>\n",
       "      <td>173.764769</td>\n",
       "      <td>178.141796</td>\n",
       "    </tr>\n",
       "    <tr>\n",
       "      <th>std</th>\n",
       "      <td>525.697713</td>\n",
       "      <td>23.654208</td>\n",
       "      <td>76.977407</td>\n",
       "      <td>1188.848308</td>\n",
       "      <td>1193.766551</td>\n",
       "      <td>1198.127832</td>\n",
       "    </tr>\n",
       "    <tr>\n",
       "      <th>min</th>\n",
       "      <td>1.000000</td>\n",
       "      <td>-77.847000</td>\n",
       "      <td>-179.977700</td>\n",
       "      <td>-989.619000</td>\n",
       "      <td>-989.619000</td>\n",
       "      <td>-934.944000</td>\n",
       "    </tr>\n",
       "    <tr>\n",
       "      <th>25%</th>\n",
       "      <td>4.772240</td>\n",
       "      <td>28.861200</td>\n",
       "      <td>-79.211900</td>\n",
       "      <td>0.000000</td>\n",
       "      <td>0.000000</td>\n",
       "      <td>0.000000</td>\n",
       "    </tr>\n",
       "    <tr>\n",
       "      <th>50%</th>\n",
       "      <td>18.900000</td>\n",
       "      <td>40.071250</td>\n",
       "      <td>-3.746700</td>\n",
       "      <td>0.000000</td>\n",
       "      <td>0.000000</td>\n",
       "      <td>0.000000</td>\n",
       "    </tr>\n",
       "    <tr>\n",
       "      <th>75%</th>\n",
       "      <td>100.000000</td>\n",
       "      <td>47.134900</td>\n",
       "      <td>24.933200</td>\n",
       "      <td>0.000000</td>\n",
       "      <td>0.000000</td>\n",
       "      <td>0.225000</td>\n",
       "    </tr>\n",
       "    <tr>\n",
       "      <th>max</th>\n",
       "      <td>22500.000000</td>\n",
       "      <td>71.292000</td>\n",
       "      <td>179.388700</td>\n",
       "      <td>59546.865000</td>\n",
       "      <td>59546.865000</td>\n",
       "      <td>59546.865000</td>\n",
       "    </tr>\n",
       "  </tbody>\n",
       "</table>\n",
       "</div>"
      ],
      "text/plain": [
       "        capacity_mw      latitude     longitude        prior2        prior1  \\\n",
       "count  89730.000000  89730.000000  89730.000000  89730.000000  89730.000000   \n",
       "mean     186.294810     32.497558    -12.458680    169.183678    173.764769   \n",
       "std      525.697713     23.654208     76.977407   1188.848308   1193.766551   \n",
       "min        1.000000    -77.847000   -179.977700   -989.619000   -989.619000   \n",
       "25%        4.772240     28.861200    -79.211900      0.000000      0.000000   \n",
       "50%       18.900000     40.071250     -3.746700      0.000000      0.000000   \n",
       "75%      100.000000     47.134900     24.933200      0.000000      0.000000   \n",
       "max    22500.000000     71.292000    179.388700  59546.865000  59546.865000   \n",
       "\n",
       "            current  \n",
       "count  89730.000000  \n",
       "mean     178.141796  \n",
       "std     1198.127832  \n",
       "min     -934.944000  \n",
       "25%        0.000000  \n",
       "50%        0.000000  \n",
       "75%        0.225000  \n",
       "max    59546.865000  "
      ]
     },
     "execution_count": 55,
     "metadata": {},
     "output_type": "execute_result"
    }
   ],
   "source": [
    "final.describe()"
   ]
  },
  {
   "cell_type": "code",
   "execution_count": 85,
   "metadata": {},
   "outputs": [
    {
     "data": {
      "text/html": [
       "<div>\n",
       "<style scoped>\n",
       "    .dataframe tbody tr th:only-of-type {\n",
       "        vertical-align: middle;\n",
       "    }\n",
       "\n",
       "    .dataframe tbody tr th {\n",
       "        vertical-align: top;\n",
       "    }\n",
       "\n",
       "    .dataframe thead th {\n",
       "        text-align: right;\n",
       "    }\n",
       "</style>\n",
       "<table border=\"1\" class=\"dataframe\">\n",
       "  <thead>\n",
       "    <tr style=\"text-align: right;\">\n",
       "      <th></th>\n",
       "      <th>capacity_mw</th>\n",
       "      <th>latitude</th>\n",
       "      <th>longitude</th>\n",
       "      <th>prior2</th>\n",
       "      <th>prior1</th>\n",
       "      <th>current</th>\n",
       "    </tr>\n",
       "  </thead>\n",
       "  <tbody>\n",
       "    <tr>\n",
       "      <th>0</th>\n",
       "      <td>33.00</td>\n",
       "      <td>32.3220</td>\n",
       "      <td>65.1190</td>\n",
       "      <td>0.0</td>\n",
       "      <td>0.0</td>\n",
       "      <td>0.0</td>\n",
       "    </tr>\n",
       "    <tr>\n",
       "      <th>1</th>\n",
       "      <td>66.00</td>\n",
       "      <td>34.5560</td>\n",
       "      <td>69.4787</td>\n",
       "      <td>0.0</td>\n",
       "      <td>0.0</td>\n",
       "      <td>0.0</td>\n",
       "    </tr>\n",
       "    <tr>\n",
       "      <th>2</th>\n",
       "      <td>100.00</td>\n",
       "      <td>34.6410</td>\n",
       "      <td>69.7170</td>\n",
       "      <td>0.0</td>\n",
       "      <td>0.0</td>\n",
       "      <td>0.0</td>\n",
       "    </tr>\n",
       "    <tr>\n",
       "      <th>3</th>\n",
       "      <td>11.55</td>\n",
       "      <td>34.4847</td>\n",
       "      <td>70.3633</td>\n",
       "      <td>0.0</td>\n",
       "      <td>0.0</td>\n",
       "      <td>0.0</td>\n",
       "    </tr>\n",
       "    <tr>\n",
       "      <th>4</th>\n",
       "      <td>42.00</td>\n",
       "      <td>34.5638</td>\n",
       "      <td>69.1134</td>\n",
       "      <td>0.0</td>\n",
       "      <td>0.0</td>\n",
       "      <td>0.0</td>\n",
       "    </tr>\n",
       "    <tr>\n",
       "      <th>...</th>\n",
       "      <td>...</td>\n",
       "      <td>...</td>\n",
       "      <td>...</td>\n",
       "      <td>...</td>\n",
       "      <td>...</td>\n",
       "      <td>...</td>\n",
       "    </tr>\n",
       "    <tr>\n",
       "      <th>89725</th>\n",
       "      <td>50.00</td>\n",
       "      <td>-12.9667</td>\n",
       "      <td>28.6333</td>\n",
       "      <td>0.0</td>\n",
       "      <td>0.0</td>\n",
       "      <td>0.0</td>\n",
       "    </tr>\n",
       "    <tr>\n",
       "      <th>89726</th>\n",
       "      <td>20.00</td>\n",
       "      <td>-12.8167</td>\n",
       "      <td>28.2000</td>\n",
       "      <td>0.0</td>\n",
       "      <td>0.0</td>\n",
       "      <td>0.0</td>\n",
       "    </tr>\n",
       "    <tr>\n",
       "      <th>89727</th>\n",
       "      <td>108.00</td>\n",
       "      <td>-17.9167</td>\n",
       "      <td>25.8500</td>\n",
       "      <td>0.0</td>\n",
       "      <td>0.0</td>\n",
       "      <td>0.0</td>\n",
       "    </tr>\n",
       "    <tr>\n",
       "      <th>89728</th>\n",
       "      <td>920.00</td>\n",
       "      <td>-18.3835</td>\n",
       "      <td>26.4700</td>\n",
       "      <td>0.0</td>\n",
       "      <td>0.0</td>\n",
       "      <td>0.0</td>\n",
       "    </tr>\n",
       "    <tr>\n",
       "      <th>89729</th>\n",
       "      <td>750.00</td>\n",
       "      <td>-16.5222</td>\n",
       "      <td>28.7619</td>\n",
       "      <td>0.0</td>\n",
       "      <td>0.0</td>\n",
       "      <td>0.0</td>\n",
       "    </tr>\n",
       "  </tbody>\n",
       "</table>\n",
       "<p>89730 rows × 6 columns</p>\n",
       "</div>"
      ],
      "text/plain": [
       "       capacity_mw  latitude  longitude  prior2  prior1  current\n",
       "0            33.00   32.3220    65.1190     0.0     0.0      0.0\n",
       "1            66.00   34.5560    69.4787     0.0     0.0      0.0\n",
       "2           100.00   34.6410    69.7170     0.0     0.0      0.0\n",
       "3            11.55   34.4847    70.3633     0.0     0.0      0.0\n",
       "4            42.00   34.5638    69.1134     0.0     0.0      0.0\n",
       "...            ...       ...        ...     ...     ...      ...\n",
       "89725        50.00  -12.9667    28.6333     0.0     0.0      0.0\n",
       "89726        20.00  -12.8167    28.2000     0.0     0.0      0.0\n",
       "89727       108.00  -17.9167    25.8500     0.0     0.0      0.0\n",
       "89728       920.00  -18.3835    26.4700     0.0     0.0      0.0\n",
       "89729       750.00  -16.5222    28.7619     0.0     0.0      0.0\n",
       "\n",
       "[89730 rows x 6 columns]"
      ]
     },
     "execution_count": 85,
     "metadata": {},
     "output_type": "execute_result"
    }
   ],
   "source": [
    "final"
   ]
  },
  {
   "cell_type": "code",
   "execution_count": 44,
   "metadata": {},
   "outputs": [],
   "source": [
    "final.drop(['year_of_capacity_data', 'other_fuel1', 'other_fuel2', 'other_fuel3', 'name'], axis=1, inplace=True)\n"
   ]
  },
  {
   "cell_type": "code",
   "execution_count": 45,
   "metadata": {},
   "outputs": [],
   "source": [
    "final.drop(['country_long','primary_fuel'], axis=1, inplace=True)\n"
   ]
  },
  {
   "cell_type": "code",
   "execution_count": 46,
   "metadata": {},
   "outputs": [],
   "source": [
    "final=final.fillna(0)"
   ]
  },
  {
   "cell_type": "code",
   "execution_count": 47,
   "metadata": {},
   "outputs": [],
   "source": [
    "X_data = final[['capacity_mw','latitude','longitude','prior2','prior1']]\n",
    "y_data = final[['current']]"
   ]
  },
  {
   "cell_type": "code",
   "execution_count": 48,
   "metadata": {},
   "outputs": [],
   "source": [
    "X_data = X_data.apply(lambda x: (x-x.min(axis=0)) / (x.max(axis=0)-x.min(axis=0)))"
   ]
  },
  {
   "cell_type": "code",
   "execution_count": 78,
   "metadata": {},
   "outputs": [
    {
     "data": {
      "text/plain": [
       "<matplotlib.axes._subplots.AxesSubplot at 0x7ff471423c10>"
      ]
     },
     "execution_count": 78,
     "metadata": {},
     "output_type": "execute_result"
    },
    {
     "data": {
      "image/png": "[encoded data removed]",
      "text/plain": [
       "<Figure size 432x288 with 1 Axes>"
      ]
     },
     "metadata": {},
     "output_type": "display_data"
    }
   ],
   "source": [
    "final.current.plot.hist(bins=10)  "
   ]
  },
  {
   "cell_type": "code",
   "execution_count": 74,
   "metadata": {},
   "outputs": [],
   "source": [
    "## Splitting data to train and test\n",
    "from sklearn.model_selection import train_test_split\n",
    "X_train,X_test,y_train,y_test=train_test_split(X_data,y_data,test_size=0.3, random_state=41)"
   ]
  },
  {
   "cell_type": "code",
   "execution_count": 60,
   "metadata": {},
   "outputs": [
    {
     "name": "stdout",
     "output_type": "stream",
     "text": [
      "0.8028505579010543\n",
      "0.8292692491000222\n"
     ]
    }
   ],
   "source": [
    "from sklearn.linear_model import LinearRegression\n",
    "from sklearn.metrics import r2_score\n",
    "reg = LinearRegression().fit(X_train, y_train) ## Here I'm fitting my train data in Linear regression algo\n",
    "print(reg.score(X_train, y_train)) ## I'm checking the score of my train\n",
    "y_pred = reg.predict(X_test) ## Here, I'm predicting using test data\n",
    "print('R squared is:',r2_score(y_test, y_pred)) ## Comparing the actual Vs Prediction results"
   ]
  },
  {
   "cell_type": "code",
   "execution_count": 62,
   "metadata": {},
   "outputs": [
    {
     "name": "stdout",
     "output_type": "stream",
     "text": [
      "mse is: 213561.5927061941\n",
      "rmse is: 462.12724730986605\n"
     ]
    }
   ],
   "source": [
    "## Root mean squared error\n",
    "import math\n",
    "from sklearn.metrics import mean_squared_error\n",
    "mse = mean_squared_error(y_test, y_pred)\n",
    "rmse = math.sqrt(mse)\n",
    "print('mse is:', mse )\n",
    "print('rmse is:', rmse)"
   ]
  },
  {
   "cell_type": "code",
   "execution_count": 64,
   "metadata": {},
   "outputs": [
    {
     "name": "stdout",
     "output_type": "stream",
     "text": [
      "R squared is: 0.8065837936494216\n",
      "mse is: 241938.09765189045\n",
      "rmse is: 491.8720338176287\n"
     ]
    }
   ],
   "source": [
    "from sklearn.tree import DecisionTreeRegressor\n",
    "DT = DecisionTreeRegressor().fit(X_train, y_train) ## Fitting train data in Linear regression algo\n",
    "\n",
    "y_pred_DT = DT.predict(X_test) ## Predicting using test data\n",
    "print('R squared is:',r2_score(y_test, y_pred_DT))\n",
    "mse_DT = mean_squared_error(y_test, y_pred_DT)\n",
    "rmse_DT = math.sqrt(mse_DT)\n",
    "print('mse is:', mse_DT )\n",
    "print('rmse is:', rmse_DT)"
   ]
  },
  {
   "cell_type": "code",
   "execution_count": 76,
   "metadata": {},
   "outputs": [
    {
     "name": "stderr",
     "output_type": "stream",
     "text": [
      "/home/q/.local/lib/python3.7/site-packages/ipykernel_launcher.py:5: DataConversionWarning: A column-vector y was passed when a 1d array was expected. Please change the shape of y to (n_samples,), for example using ravel().\n",
      "  \"\"\"\n"
     ]
    },
    {
     "name": "stdout",
     "output_type": "stream",
     "text": [
      "R squared is: 0.876757516996191\n",
      "mse is: 154160.04920390082\n",
      "rmse is: 392.63220601970596\n"
     ]
    }
   ],
   "source": [
    "## Random forest regressor\n",
    "from sklearn.ensemble import RandomForestRegressor\n",
    "from sklearn.datasets import make_regression\n",
    "\n",
    "RF=RandomForestRegressor().fit(X_train, y_train)\n",
    "\n",
    "y_pred_RF = RF.predict(X_test) # Prediction using test data\n",
    "print('R squared is:',r2_score(y_test, y_pred_RF))\n",
    "mse_RF = mean_squared_error(y_test, y_pred_RF)\n",
    "rmse_RF = math.sqrt(mse_RF)\n",
    "print('mse is:', mse_RF)\n",
    "print('rmse is:', rmse_RF)"
   ]
  },
  {
   "cell_type": "code",
   "execution_count": 80,
   "metadata": {},
   "outputs": [
    {
     "name": "stdout",
     "output_type": "stream",
     "text": [
      "R squared is: 0.8606902117234034\n",
      "mse is: 174258.12343168532\n",
      "rmse is: 417.442359412273\n"
     ]
    }
   ],
   "source": [
    "## KNN reggressor\n",
    "from sklearn.neighbors import KNeighborsRegressor\n",
    "\n",
    "NN=KNeighborsRegressor().fit(X_train, y_train)\n",
    "y_pred_NN = NN.predict(X_test) # Predicting using test data\n",
    "print('R squared is:',r2_score(y_test, y_pred_NN))\n",
    "mse_NN = mean_squared_error(y_test, y_pred_NN)\n",
    "rmse_NN = math.sqrt(mse_NN)\n",
    "print('mse is:', mse_NN)\n",
    "print('rmse is:', rmse_NN)"
   ]
  },
  {
   "cell_type": "code",
   "execution_count": 69,
   "metadata": {},
   "outputs": [
    {
     "data": {
      "text/plain": [
       "array([0, 0, 0, ..., 0, 0, 0], dtype=int32)"
      ]
     },
     "execution_count": 69,
     "metadata": {},
     "output_type": "execute_result"
    }
   ],
   "source": [
    "## Clustering using KMeans\n",
    "from sklearn.cluster import KMeans\n",
    "kmeans = KMeans(n_clusters=2, random_state=0).fit(X_data[['prior2', 'prior1']])\n",
    "kmeans.labels_"
   ]
  },
  {
   "cell_type": "code",
   "execution_count": 70,
   "metadata": {},
   "outputs": [],
   "source": [
    "X_data['Cluster'] = kmeans.labels_"
   ]
  },
  {
   "cell_type": "code",
   "execution_count": 71,
   "metadata": {},
   "outputs": [],
   "source": [
    "## Clustered Prior 1 and Prior2 columns to 2 clusterrs and replacing those two columns with cluster \n",
    "## Rebuild models using new df\n",
    "X_train,X_test,y_train,y_test=train_test_split(X_data.drop(columns=['prior1', 'prior2']),y_data,test_size=0.3, random_state=41)"
   ]
  },
  {
   "cell_type": "code",
   "execution_count": 72,
   "metadata": {},
   "outputs": [
    {
     "name": "stdout",
     "output_type": "stream",
     "text": [
      "0.5828643982315611\n",
      "R squared is: 0.5741420296834572\n"
     ]
    }
   ],
   "source": [
    "## Linear regression after adding clusters to df\n",
    "reg2 = LinearRegression().fit(X_train, y_train) ## Fitting train data in Linear regression algo\n",
    "print(reg2.score(X_train, y_train)) ## Checking the score of my train\n",
    "y_pred_reg2 = reg2.predict(X_test) ## Predicting using test data\n",
    "print('R squared is:',r2_score(y_test, y_pred_reg2)) ## Comparing the actual Vs Prediction results"
   ]
  },
  {
   "cell_type": "code",
   "execution_count": 73,
   "metadata": {},
   "outputs": [
    {
     "name": "stdout",
     "output_type": "stream",
     "text": [
      "R squared is: 0.7808436596373483\n",
      "mse is: 274135.60154098034\n",
      "rmse is: 523.5796038244617\n"
     ]
    }
   ],
   "source": [
    "## DT after adding cluster\n",
    "from sklearn.tree import DecisionTreeRegressor\n",
    "DT2 = DecisionTreeRegressor().fit(X_train, y_train) ## Fitting train data in Linear regression algo\n",
    "\n",
    "y_pred_DT2 = DT2.predict(X_test) ## Predicting using test data\n",
    "print('R squared is:',r2_score(y_test, y_pred_DT2))\n",
    "mse_DT2 = mean_squared_error(y_test, y_pred_DT2)\n",
    "rmse_DT2 = math.sqrt(mse_DT2)\n",
    "print('mse is:', mse_DT2 )\n",
    "print('rmse is:', rmse_DT2)"
   ]
  },
  {
   "cell_type": "code",
   "execution_count": 81,
   "metadata": {},
   "outputs": [],
   "source": [
    "### RF regressor \n",
    "X_train,X_test,y_train,y_test=train_test_split(X_data.drop(columns=['prior1', 'prior2']),y_data,test_size=0.3, random_state=41)"
   ]
  },
  {
   "cell_type": "code",
   "execution_count": 82,
   "metadata": {},
   "outputs": [
    {
     "name": "stderr",
     "output_type": "stream",
     "text": [
      "/home/q/.local/lib/python3.7/site-packages/ipykernel_launcher.py:1: DataConversionWarning: A column-vector y was passed when a 1d array was expected. Please change the shape of y to (n_samples,), for example using ravel().\n",
      "  \"\"\"Entry point for launching an IPython kernel.\n"
     ]
    },
    {
     "name": "stdout",
     "output_type": "stream",
     "text": [
      "R squared is: 0.8311492012368606\n",
      "mse is: 211210.02117945813\n",
      "rmse is: 459.5759144901505\n"
     ]
    }
   ],
   "source": [
    "RF=RandomForestRegressor().fit(X_train, y_train)\n",
    "\n",
    "y_pred_RF = RF.predict(X_test) ## Predicting using test data\n",
    "print('R squared is:',r2_score(y_test, y_pred_RF))\n",
    "mse_RF = mean_squared_error(y_test, y_pred_RF)\n",
    "rmse_RF = math.sqrt(mse_RF)\n",
    "print('mse is:', mse_RF)\n",
    "print('rmse is:', rmse_RF)"
   ]
  },
  {
   "cell_type": "code",
   "execution_count": 83,
   "metadata": {},
   "outputs": [],
   "source": [
    "### KNN regressor\n",
    "X_train,X_test,y_train,y_test=train_test_split(X_data.drop(columns=['prior1', 'prior2']),y_data,test_size=0.3, random_state=41)"
   ]
  },
  {
   "cell_type": "code",
   "execution_count": 84,
   "metadata": {},
   "outputs": [
    {
     "name": "stdout",
     "output_type": "stream",
     "text": [
      "R squared is: 0.78081714636564\n",
      "mse is: 274168.766137891\n",
      "rmse is: 523.6112738834898\n"
     ]
    }
   ],
   "source": [
    "NN=KNeighborsRegressor().fit(X_train, y_train)\n",
    "y_pred_NN = NN.predict(X_test) ## Predicting using test data\n",
    "print('R squared is:',r2_score(y_test, y_pred_NN))\n",
    "mse_NN = mean_squared_error(y_test, y_pred_NN)\n",
    "rmse_NN = math.sqrt(mse_NN)\n",
    "print('mse is:', mse_NN)\n",
    "print('rmse is:', rmse_NN)"
   ]
  },
  {
   "cell_type": "markdown",
   "metadata": {},
   "source": [
    "# modeling kmeans, Kelbow, OLS"
   ]
  },
  {
   "cell_type": "code",
   "execution_count": null,
   "metadata": {},
   "outputs": [],
   "source": [
    "from sklearn.preprocessing import StandardScaler\n",
    "features = ['capacity_mw','latitude','longitude','prior2','prior1']\n",
    "# Separating out the features\n",
    "x = final.loc[:, features].values\n",
    "# Separating out the target\n",
    "y = final.loc[:,['current']].values\n",
    "# Standardizing the features\n",
    "x = StandardScaler().fit_transform(x)"
   ]
  },
  {
   "cell_type": "code",
   "execution_count": null,
   "metadata": {},
   "outputs": [],
   "source": [
    "from sklearn.decomposition import PCA\n",
    "pca = PCA(n_components=2)\n",
    "principalComponents = pca.fit_transform(x)\n",
    "principalDf = pd.DataFrame(data = principalComponents\n",
    "            , columns = ['prior2', 'prior1'])"
   ]
  },
  {
   "cell_type": "code",
   "execution_count": 132,
   "metadata": {},
   "outputs": [],
   "source": [
    "finalDf = pd.concat([principalDf, final[['current']]], axis = 1)\n"
   ]
  },
  {
   "cell_type": "code",
   "execution_count": null,
   "metadata": {},
   "outputs": [],
   "source": [
    "from sklearn.cluster import KMeans\n",
    "kmeans = KMeans(n_clusters=2, random_state=0).fit(finalDf)\n",
    "kmeans.labels_"
   ]
  },
  {
   "cell_type": "code",
   "execution_count": null,
   "metadata": {},
   "outputs": [],
   "source": []
  },
  {
   "cell_type": "code",
   "execution_count": null,
   "metadata": {},
   "outputs": [],
   "source": [
    "import statsmodels.api as sm\n",
    "from statsmodels.tools.tools import add_constant"
   ]
  },
  {
   "cell_type": "code",
   "execution_count": null,
   "metadata": {},
   "outputs": [],
   "source": [
    "X = final.exog\n",
    "y = final.endog"
   ]
  },
  {
   "cell_type": "code",
   "execution_count": null,
   "metadata": {},
   "outputs": [],
   "source": [
    " model = sm.OLS(y,x)"
   ]
  },
  {
   "cell_type": "code",
   "execution_count": null,
   "metadata": {},
   "outputs": [],
   "source": [
    "fit = model.fit()"
   ]
  },
  {
   "cell_type": "code",
   "execution_count": null,
   "metadata": {},
   "outputs": [],
   "source": [
    "fit.pvalues"
   ]
  },
  {
   "cell_type": "code",
   "execution_count": null,
   "metadata": {},
   "outputs": [],
   "source": [
    "fit.summary()"
   ]
  },
  {
   "cell_type": "code",
   "execution_count": null,
   "metadata": {},
   "outputs": [],
   "source": [
    "from sklearn.model_selection import train_test_split"
   ]
  },
  {
   "cell_type": "code",
   "execution_count": null,
   "metadata": {},
   "outputs": [],
   "source": [
    "X_train,X_test,y_train,y_test=train_test_split(X,y,test_size=0.3, random_state=41)"
   ]
  },
  {
   "cell_type": "code",
   "execution_count": null,
   "metadata": {},
   "outputs": [],
   "source": []
  },
  {
   "cell_type": "code",
   "execution_count": null,
   "metadata": {},
   "outputs": [],
   "source": [
    "# clustering dataset\n",
    "# determine k using elbow method\n",
    "\n",
    "from sklearn.cluster import KMeans\n",
    "from sklearn import metrics\n",
    "from scipy.spatial.distance import cdist\n",
    "\n",
    "\n",
    "x1 = np.array([3, 1, 1, 2, 1, 6, 6, 6, 5, 6, 7, 8, 9, 8, 9, 9, 8])\n",
    "x2 = np.array([5, 4, 5, 6, 5, 8, 6, 7, 6, 7, 1, 2, 1, 2, 3, 2, 3])\n",
    "\n",
    "plt.plot()\n",
    "plt.xlim([0, 10])\n",
    "plt.ylim([0, 10])\n",
    "plt.title('Dataset')\n",
    "plt.scatter(x1, x2)\n",
    "plt.show()\n",
    "\n",
    "# create new plot and data\n",
    "plt.plot()\n",
    "X = np.array(list(zip(x1, x2))).reshape(len(x1), 2)\n",
    "colors = ['b', 'g', 'r']\n",
    "markers = ['o', 'v', 's']\n",
    "\n",
    "# k means determine k\n",
    "distortions = []\n",
    "K = range(1,10)\n",
    "for k in K:\n",
    "    kmeanModel = KMeans(n_clusters=k).fit(X)\n",
    "    kmeanModel.fit(X)\n",
    "    distortions.append(sum(np.min(cdist(X, kmeanModel.cluster_centers_, 'euclidean'), axis=1)) / X.shape[0])\n",
    "\n",
    "# Plot the elbow\n",
    "plt.plot(K, distortions, 'bx-')\n",
    "plt.xlabel('k')\n",
    "plt.ylabel('Distortion')\n",
    "plt.title('The Elbow Method showing the optimal k')\n",
    "plt.show()\n",
    "\n",
    " "
   ]
  }
 ],
 "metadata": {
  "kernelspec": {
   "display_name": "Python 3",
   "language": "python",
   "name": "python3"
  },
  "language_info": {
   "codemirror_mode": {
    "name": "ipython",
    "version": 3
   },
   "file_extension": ".py",
   "mimetype": "text/x-python",
   "name": "python",
   "nbconvert_exporter": "python",
   "pygments_lexer": "ipython3",
   "version": "3.7.6"
  }
 },
 "nbformat": 4,
 "nbformat_minor": 2
}
